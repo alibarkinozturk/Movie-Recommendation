{
 "cells": [
  {
   "cell_type": "code",
   "execution_count": 1,
   "id": "f30a198d-a005-4ec5-b477-1b3548c603d3",
   "metadata": {},
   "outputs": [],
   "source": [
    "import pandas as pd\n",
    "import numpy as np\n",
    "import re\n",
    "import warnings\n",
    "warnings.filterwarnings('ignore')"
   ]
  },
  {
   "cell_type": "code",
   "execution_count": 2,
   "id": "710ca791-a189-4de4-8ba9-04bcbb069f10",
   "metadata": {},
   "outputs": [],
   "source": [
    "ratings_df = pd.read_csv(\"ratings.csv\")"
   ]
  },
  {
   "cell_type": "code",
   "execution_count": 3,
   "id": "c51c98eb-595d-43fc-a421-8de72073af00",
   "metadata": {},
   "outputs": [],
   "source": [
    "user_df = ratings_df.groupby(by=\"userId\",as_index = False).count()"
   ]
  },
  {
   "cell_type": "code",
   "execution_count": 4,
   "id": "6b9d9572-3d1b-4a35-a60c-f18cbc959a61",
   "metadata": {},
   "outputs": [],
   "source": [
    "user_df[\"count\"] = user_df[\"movieId\"]"
   ]
  },
  {
   "cell_type": "code",
   "execution_count": 5,
   "id": "264b67db-3794-4fb5-bbdd-e8a72d3e3924",
   "metadata": {},
   "outputs": [],
   "source": [
    "user_df = user_df[[\"userId\",\"count\"]]\n",
    "user_df[\"movies\"] = \"\""
   ]
  },
  {
   "cell_type": "code",
   "execution_count": 6,
   "id": "b237fdc6-e45b-4d27-ba43-7cd8484a8773",
   "metadata": {},
   "outputs": [],
   "source": [
    "user_df.index = user_df[\"userId\"]"
   ]
  },
  {
   "cell_type": "code",
   "execution_count": 8,
   "id": "685b92c2-3334-4aa6-aeeb-85099afec243",
   "metadata": {
    "scrolled": true
   },
   "outputs": [],
   "source": [
    "for i in range(len(user_df)):\n",
    "    list_m = list(ratings_df[(ratings_df[\"userId\"] == i)][\"rating\"])\n",
    "    user_df[\"movies\"][i] = list_m"
   ]
  },
  {
   "cell_type": "code",
   "execution_count": 11,
   "id": "1d42cfc2-a02e-4ca6-9b55-c4a49729c562",
   "metadata": {},
   "outputs": [],
   "source": [
    "list_m = list(ratings_df[(ratings_df[\"userId\"] == 162541)][\"rating\"])\n",
    "user_df[\"movies\"][162541] = list_m"
   ]
  },
  {
   "cell_type": "code",
   "execution_count": 12,
   "id": "b90f5811-1c01-42b1-8643-c1002bb3e135",
   "metadata": {},
   "outputs": [],
   "source": [
    "user_df.to_csv(\"user.csv\")"
   ]
  },
  {
   "cell_type": "code",
   "execution_count": 13,
   "id": "9d630c74-043a-4293-8b82-80bb04608851",
   "metadata": {},
   "outputs": [
    {
     "data": {
      "text/html": [
       "<div>\n",
       "<style scoped>\n",
       "    .dataframe tbody tr th:only-of-type {\n",
       "        vertical-align: middle;\n",
       "    }\n",
       "\n",
       "    .dataframe tbody tr th {\n",
       "        vertical-align: top;\n",
       "    }\n",
       "\n",
       "    .dataframe thead th {\n",
       "        text-align: right;\n",
       "    }\n",
       "</style>\n",
       "<table border=\"1\" class=\"dataframe\">\n",
       "  <thead>\n",
       "    <tr style=\"text-align: right;\">\n",
       "      <th></th>\n",
       "      <th>userId</th>\n",
       "      <th>count</th>\n",
       "      <th>movies</th>\n",
       "    </tr>\n",
       "    <tr>\n",
       "      <th>userId</th>\n",
       "      <th></th>\n",
       "      <th></th>\n",
       "      <th></th>\n",
       "    </tr>\n",
       "  </thead>\n",
       "  <tbody>\n",
       "    <tr>\n",
       "      <th>1</th>\n",
       "      <td>1</td>\n",
       "      <td>70</td>\n",
       "      <td>[5.0, 3.5, 5.0, 5.0, 3.5, 4.0, 3.5, 3.5, 5.0, ...</td>\n",
       "    </tr>\n",
       "    <tr>\n",
       "      <th>2</th>\n",
       "      <td>2</td>\n",
       "      <td>184</td>\n",
       "      <td>[3.5, 0.5, 5.0, 4.0, 4.5, 4.0, 5.0, 0.5, 1.0, ...</td>\n",
       "    </tr>\n",
       "    <tr>\n",
       "      <th>3</th>\n",
       "      <td>3</td>\n",
       "      <td>656</td>\n",
       "      <td>[4.0, 4.5, 4.5, 5.0, 4.0, 4.0, 3.0, 5.0, 4.0, ...</td>\n",
       "    </tr>\n",
       "    <tr>\n",
       "      <th>4</th>\n",
       "      <td>4</td>\n",
       "      <td>242</td>\n",
       "      <td>[3.0, 3.5, 4.0, 4.5, 4.0, 2.0, 4.0, 4.0, 3.5, ...</td>\n",
       "    </tr>\n",
       "    <tr>\n",
       "      <th>5</th>\n",
       "      <td>5</td>\n",
       "      <td>101</td>\n",
       "      <td>[4.0, 4.0, 5.0, 5.0, 2.0, 5.0, 5.0, 4.0, 3.0, ...</td>\n",
       "    </tr>\n",
       "    <tr>\n",
       "      <th>...</th>\n",
       "      <td>...</td>\n",
       "      <td>...</td>\n",
       "      <td>...</td>\n",
       "    </tr>\n",
       "    <tr>\n",
       "      <th>162537</th>\n",
       "      <td>162537</td>\n",
       "      <td>101</td>\n",
       "      <td>[4.0, 3.0, 5.0, 4.0, 5.0, 4.0, 5.0, 5.0, 4.0, ...</td>\n",
       "    </tr>\n",
       "    <tr>\n",
       "      <th>162538</th>\n",
       "      <td>162538</td>\n",
       "      <td>154</td>\n",
       "      <td>[2.0, 4.0, 4.0, 4.0, 4.5, 4.0, 4.5, 1.5, 2.5, ...</td>\n",
       "    </tr>\n",
       "    <tr>\n",
       "      <th>162539</th>\n",
       "      <td>162539</td>\n",
       "      <td>47</td>\n",
       "      <td>[4.0, 5.0, 5.0, 3.0, 4.0, 5.0, 5.0, 5.0, 4.0, ...</td>\n",
       "    </tr>\n",
       "    <tr>\n",
       "      <th>162540</th>\n",
       "      <td>162540</td>\n",
       "      <td>88</td>\n",
       "      <td>[4.5, 0.5, 1.0, 0.5, 3.0, 5.0, 4.0, 2.0, 1.0, ...</td>\n",
       "    </tr>\n",
       "    <tr>\n",
       "      <th>162541</th>\n",
       "      <td>162541</td>\n",
       "      <td>182</td>\n",
       "      <td>[5.0, 5.0, 4.5, 5.0, 2.5, 2.5, 3.0, 3.5, 2.5, ...</td>\n",
       "    </tr>\n",
       "  </tbody>\n",
       "</table>\n",
       "<p>162541 rows × 3 columns</p>\n",
       "</div>"
      ],
      "text/plain": [
       "        userId  count                                             movies\n",
       "userId                                                                  \n",
       "1            1     70  [5.0, 3.5, 5.0, 5.0, 3.5, 4.0, 3.5, 3.5, 5.0, ...\n",
       "2            2    184  [3.5, 0.5, 5.0, 4.0, 4.5, 4.0, 5.0, 0.5, 1.0, ...\n",
       "3            3    656  [4.0, 4.5, 4.5, 5.0, 4.0, 4.0, 3.0, 5.0, 4.0, ...\n",
       "4            4    242  [3.0, 3.5, 4.0, 4.5, 4.0, 2.0, 4.0, 4.0, 3.5, ...\n",
       "5            5    101  [4.0, 4.0, 5.0, 5.0, 2.0, 5.0, 5.0, 4.0, 3.0, ...\n",
       "...        ...    ...                                                ...\n",
       "162537  162537    101  [4.0, 3.0, 5.0, 4.0, 5.0, 4.0, 5.0, 5.0, 4.0, ...\n",
       "162538  162538    154  [2.0, 4.0, 4.0, 4.0, 4.5, 4.0, 4.5, 1.5, 2.5, ...\n",
       "162539  162539     47  [4.0, 5.0, 5.0, 3.0, 4.0, 5.0, 5.0, 5.0, 4.0, ...\n",
       "162540  162540     88  [4.5, 0.5, 1.0, 0.5, 3.0, 5.0, 4.0, 2.0, 1.0, ...\n",
       "162541  162541    182  [5.0, 5.0, 4.5, 5.0, 2.5, 2.5, 3.0, 3.5, 2.5, ...\n",
       "\n",
       "[162541 rows x 3 columns]"
      ]
     },
     "execution_count": 13,
     "metadata": {},
     "output_type": "execute_result"
    }
   ],
   "source": [
    "user_df"
   ]
  },
  {
   "cell_type": "code",
   "execution_count": null,
   "id": "d7928fab-759c-4b21-a468-1c0a7f94b421",
   "metadata": {},
   "outputs": [],
   "source": []
  }
 ],
 "metadata": {
  "kernelspec": {
   "display_name": "Python 3 (ipykernel)",
   "language": "python",
   "name": "python3"
  },
  "language_info": {
   "codemirror_mode": {
    "name": "ipython",
    "version": 3
   },
   "file_extension": ".py",
   "mimetype": "text/x-python",
   "name": "python",
   "nbconvert_exporter": "python",
   "pygments_lexer": "ipython3",
   "version": "3.11.5"
  }
 },
 "nbformat": 4,
 "nbformat_minor": 5
}
