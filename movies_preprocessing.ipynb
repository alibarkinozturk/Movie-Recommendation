{
 "cells": [
  {
   "cell_type": "code",
   "execution_count": 31,
   "id": "f896f16f-1b56-427f-aa4b-7692c4cbff8a",
   "metadata": {},
   "outputs": [],
   "source": [
    "import pandas as pd\n",
    "import numpy as np\n",
    "import re"
   ]
  },
  {
   "cell_type": "code",
   "execution_count": 34,
   "id": "e2092698-2897-433f-a366-8889dba6214c",
   "metadata": {},
   "outputs": [],
   "source": [
    "movies_df = pd.read_csv(\"movies.csv\")\n",
    "ratings_df = pd.read_csv(\"ratings.csv\")"
   ]
  },
  {
   "cell_type": "code",
   "execution_count": 35,
   "id": "88ac6a80-4c80-40e6-b3f8-f97fb8841667",
   "metadata": {},
   "outputs": [],
   "source": [
    "def clean_title(title):\n",
    "    return re.sub(\"[^a-zA-Z0-9 ]\", \"\",title)"
   ]
  },
  {
   "cell_type": "code",
   "execution_count": 36,
   "id": "b44a8906-39fd-4e6a-8105-4c309ba07d8e",
   "metadata": {},
   "outputs": [],
   "source": [
    "movies_df[\"title\"] = movies_df[\"title\"].apply(clean_title)"
   ]
  },
  {
   "cell_type": "code",
   "execution_count": 37,
   "id": "0a476394-0fd7-411a-9485-0fddb4ef3f89",
   "metadata": {},
   "outputs": [],
   "source": [
    "movies_df[\"year\"] = movies_df[\"title\"].str[-4:]"
   ]
  },
  {
   "cell_type": "code",
   "execution_count": 38,
   "id": "3c340104-eb80-4d42-b49e-872d5b54f743",
   "metadata": {},
   "outputs": [],
   "source": [
    "movies_df[\"title\"] = movies_df[\"title\"].str[:-4]"
   ]
  },
  {
   "cell_type": "code",
   "execution_count": 39,
   "id": "e84c2f09-8d85-4892-b82d-c0c38231b4aa",
   "metadata": {},
   "outputs": [],
   "source": [
    "movies_df = movies_df[(movies_df[\"year\"].str[0] == \"1\") | (movies_df[\"year\"].str[0] == \"2\")]"
   ]
  },
  {
   "cell_type": "code",
   "execution_count": 40,
   "id": "985f669a-bc13-45be-a27c-4a09e70e1178",
   "metadata": {},
   "outputs": [],
   "source": [
    "movies_df = movies_df.drop(57318)\n",
    "movies_df = movies_df.drop(36122)"
   ]
  },
  {
   "cell_type": "code",
   "execution_count": 41,
   "id": "2973405c-9d8f-48c3-b6e2-f1bad4a5b95b",
   "metadata": {},
   "outputs": [],
   "source": [
    "movies_df[\"genres\"] = movies_df[\"genres\"].str.split(\"|\")\n",
    "movies_df = movies_df.copy()"
   ]
  },
  {
   "cell_type": "code",
   "execution_count": 42,
   "id": "a1d74a7e-5f6a-4d31-af86-9d30d361de37",
   "metadata": {},
   "outputs": [],
   "source": [
    "movies_df.to_csv(\"movies.csv\",index=False)"
   ]
  },
  {
   "cell_type": "code",
   "execution_count": 59,
   "id": "ef9b878f-20ca-4462-8887-e76b889d49ae",
   "metadata": {},
   "outputs": [
    {
     "data": {
      "text/plain": [
       "10"
      ]
     },
     "execution_count": 59,
     "metadata": {},
     "output_type": "execute_result"
    }
   ],
   "source": [
    "movies_df[\"genres\"].str.len().max()"
   ]
  },
  {
   "cell_type": "code",
   "execution_count": null,
   "id": "4139a149-6a89-477e-b41b-1a9cc13eeb1e",
   "metadata": {},
   "outputs": [],
   "source": []
  }
 ],
 "metadata": {
  "kernelspec": {
   "display_name": "Python 3 (ipykernel)",
   "language": "python",
   "name": "python3"
  },
  "language_info": {
   "codemirror_mode": {
    "name": "ipython",
    "version": 3
   },
   "file_extension": ".py",
   "mimetype": "text/x-python",
   "name": "python",
   "nbconvert_exporter": "python",
   "pygments_lexer": "ipython3",
   "version": "3.11.5"
  }
 },
 "nbformat": 4,
 "nbformat_minor": 5
}
