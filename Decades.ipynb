{
 "cells": [
  {
   "cell_type": "code",
   "execution_count": 8,
   "id": "e32b20ed-5fc0-432a-a309-3f8c73edd145",
   "metadata": {},
   "outputs": [],
   "source": [
    "import pandas as pd\n",
    "import numpy as np\n",
    "import re"
   ]
  },
  {
   "cell_type": "code",
   "execution_count": null,
   "id": "a419f1c6-66b1-48c4-9787-966d24ac75fb",
   "metadata": {},
   "outputs": [],
   "source": [
    "movies_df = pd.read_csv(\"movies.csv\")\n",
    "ratings_df = pd.read_csv(\"ratings.csv\")"
   ]
  },
  {
   "cell_type": "code",
   "execution_count": null,
   "id": "691c9720-702e-4ea4-b1d8-eefd13847459",
   "metadata": {},
   "outputs": [],
   "source": [
    "movies_df = movies_df.drop(57318)\n",
    "movies_df = movies_df.drop(36122)"
   ]
  },
  {
   "cell_type": "code",
   "execution_count": null,
   "id": "80a9892b-7ff6-46bd-9d00-894062fe2b16",
   "metadata": {},
   "outputs": [],
   "source": [
    "df = movies_df.copy()"
   ]
  },
  {
   "cell_type": "code",
   "execution_count": null,
   "id": "2f329de9-7591-4d8a-a489-58da7d20a240",
   "metadata": {},
   "outputs": [],
   "source": [
    "df.sort_values(by = \"year\")"
   ]
  },
  {
   "cell_type": "code",
   "execution_count": null,
   "id": "8997e13a-f2c7-4b91-b937-22e848743eb6",
   "metadata": {},
   "outputs": [],
   "source": [
    "list_1800 = list(df[df[\"year\"]<1900][\"movieId\"])\n",
    "list_1949 = list(df[(df[\"year\"]>1899) & (df[\"year\"]<1949)][\"movieId\"])\n",
    "list_50s = list(df[(df[\"year\"]>1949) & (df[\"year\"]<1960)][\"movieId\"])\n",
    "list_60s = list(df[(df[\"year\"]>1959) & (df[\"year\"]<1970)][\"movieId\"])\n",
    "list_70s = list(df[(df[\"year\"]>1969) & (df[\"year\"]<1980)][\"movieId\"])\n",
    "list_80s = list(df[(df[\"year\"]>1979) & (df[\"year\"]<1990)][\"movieId\"])\n",
    "list_90s = list(df[(df[\"year\"]>1989) & (df[\"year\"]<2000)][\"movieId\"])\n",
    "list_00s = list(df[(df[\"year\"]>1999) & (df[\"year\"]<2010)][\"movieId\"])\n",
    "list_10s = list(df[(df[\"year\"]>2009) & (df[\"year\"]<2020)][\"movieId\"])"
   ]
  },
  {
   "cell_type": "code",
   "execution_count": null,
   "id": "9522c27e-bfc6-4c85-9582-d10e45fb7637",
   "metadata": {},
   "outputs": [],
   "source": [
    "def top10(list):\n",
    "    list = ratings_df[ratings_df[\"movieId\"].isin(list)]\n",
    "    \n",
    "    cnt = list.groupby(by=\"movieId\",as_index= False).count().sort_values(by = \"userId\", ascending = False)\n",
    "    cnt[\"vote_num\"] = cnt[\"userId\"]\n",
    "    cnt = cnt.drop(columns = \"rating\")\n",
    "    \n",
    "    sum = list.copy()\n",
    "    sum = sum.groupby(by= \"movieId\",as_index= False).sum()\n",
    "    sum = sum[[\"movieId\",\"rating\"]]\n",
    "    list = sum.merge(cnt,how=\"left\",on= (\"movieId\"))\n",
    "    list = list.drop(columns= [\"timestamp\",\"userId\"])\n",
    "    \n",
    "    if(list[\"vote_num\"].quantile(0.33) >=2000):\n",
    "        list = list[list[\"vote_num\"]>list[\"vote_num\"].quantile(0.33)]\n",
    "    \n",
    "    else:\n",
    "        list = list[list[\"vote_num\"]>1999]\n",
    "        \n",
    "    list[\"recommend_rate\"] =  list[\"rating\"]/list[\"vote_num\"]\n",
    "    list = list.sort_values(by = \"recommend_rate\", ascending = False).head(20)\n",
    "    l_m = list[\"movieId\"]\n",
    "    \n",
    "    \n",
    "    \n",
    "    info = movies_df[movies_df['movieId'].isin(l_m)]\n",
    "    list= list.reset_index(drop=True)\n",
    "    list = list.merge(info, how = \"left\", on = \"movieId\")\n",
    "    list = list[[\"movieId\",\"title\", \"recommend_rate\", \"vote_num\", \"genres\"]]\n",
    "\n",
    "    return list"
   ]
  },
  {
   "cell_type": "code",
   "execution_count": null,
   "id": "e737a65a-ec2a-45a9-a370-f74ebe58cd79",
   "metadata": {},
   "outputs": [],
   "source": [
    "top10(list_10s)"
   ]
  },
  {
   "cell_type": "code",
   "execution_count": null,
   "id": "b05f9173-96fc-4c12-8dc8-a4e8aaa36839",
   "metadata": {},
   "outputs": [],
   "source": [
    "HTML(top10(list_10s).to_html())"
   ]
  },
  {
   "cell_type": "code",
   "execution_count": null,
   "id": "290d3a6a-a237-419e-82d5-86938981da0a",
   "metadata": {},
   "outputs": [],
   "source": []
  }
 ],
 "metadata": {
  "kernelspec": {
   "display_name": "Python 3 (ipykernel)",
   "language": "python",
   "name": "python3"
  },
  "language_info": {
   "codemirror_mode": {
    "name": "ipython",
    "version": 3
   },
   "file_extension": ".py",
   "mimetype": "text/x-python",
   "name": "python",
   "nbconvert_exporter": "python",
   "pygments_lexer": "ipython3",
   "version": "3.11.5"
  }
 },
 "nbformat": 4,
 "nbformat_minor": 5
}
